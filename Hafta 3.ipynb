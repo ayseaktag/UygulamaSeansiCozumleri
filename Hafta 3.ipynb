{
  "cells": [
    {
      "cell_type": "markdown",
      "metadata": {
        "id": "qSohb5ne4TCl"
      },
      "source": [
        "### Soru 11\n",
        "\n",
        "Verilen tam sayı 'n' için n'den küçük olan ve negatif olmayan sayıların karelerini ekrana yazdırınız.\\\n",
        "\\\n",
        "Örneğin 6 sayısı için ekranda şu şekilde bir çıktı olmalıdır ;\\\n",
        "0 \\\n",
        "1 \\\n",
        "4 \\\n",
        "9 \\\n",
        "16 \\\n",
        "25 "
      ]
    },
    {
      "cell_type": "code",
      "execution_count": 3,
      "metadata": {},
      "outputs": [
        {
          "name": "stdout",
          "output_type": "stream",
          "text": [
            "0\n",
            "1\n",
            "4\n",
            "9\n",
            "16\n",
            "25\n"
          ]
        }
      ],
      "source": [
        "givenInteger = int(input(\"Pozitif bir tam sayi giriniz: \"))\n",
        "\n",
        "for number in range(0, givenInteger):\n",
        "    print(number * number)"
      ]
    },
    {
      "cell_type": "markdown",
      "metadata": {},
      "source": [
        "### Soru 12\n",
        "\n",
        "Kullanıcıdan bir metin girmesini isteyin ve girilen bu metinde bulunan sesli harflerin sayısını ekranda gösteren kodu yazın."
      ]
    },
    {
      "cell_type": "code",
      "execution_count": 5,
      "metadata": {},
      "outputs": [
        {
          "name": "stdout",
          "output_type": "stream",
          "text": [
            "sisterslab metnindeki sesli harf sayısı:  3\n"
          ]
        }
      ],
      "source": [
        "letters = \"AEIİOÖUÜaeıioöuü\"\n",
        "counter = 0\n",
        "\n",
        "text = input(\"Metin giriniz: \")\n",
        "\n",
        "for i in text:\n",
        "    if i in letters:\n",
        "        counter +=1\n",
        "print(text, \"metnindeki sesli harf sayısı: \", counter)\n"
      ]
    },
    {
      "cell_type": "code",
      "execution_count": 8,
      "metadata": {},
      "outputs": [
        {
          "name": "stdout",
          "output_type": "stream",
          "text": [
            "3\n"
          ]
        }
      ],
      "source": [
        "sesli_harfler = \"AaEeIıİiOoÖöUuÜü\"\n",
        "metin = input(\"Metin giriniz:\")\n",
        "x = 0\n",
        "while True:\n",
        "    for i in sesli_harfler:\n",
        "        for j in metin:\n",
        "            if j == i:\n",
        "                x += 1\n",
        "            else:\n",
        "                continue\n",
        "    print(x)\n",
        "    break\n"
      ]
    },
    {
      "cell_type": "markdown",
      "metadata": {},
      "source": [
        "### Soru 13\n",
        "\n",
        "Kullanıcıdan bir sayı alınız ve sonrasında alınan sayıya kadar olan sayılardan oluşan alttaki piramiti oluşturunuz.\n",
        "\n",
        "Örnek: Kullanıcı '5' değerini girdiyse;\n",
        "```\n",
        "1\n",
        "1 2\n",
        "1 2 3\n",
        "1 2 3 4\n",
        "1 2 3 4 5\n",
        "```"
      ]
    },
    {
      "cell_type": "code",
      "execution_count": 9,
      "metadata": {},
      "outputs": [
        {
          "name": "stdout",
          "output_type": "stream",
          "text": [
            "\n",
            "1 \n",
            "1 2 \n",
            "1 2 3 \n",
            "1 2 3 4 \n",
            "1 2 3 4 5 \n"
          ]
        }
      ],
      "source": [
        "givenInteger = int(input())\n",
        "\n",
        "for rowIndex in range(0, givenInteger + 1):\n",
        "    for columnIndex in range(0, rowIndex):\n",
        "        print(columnIndex + 1, end = \" \" ) \n",
        "    print()\n",
        "    \n"
      ]
    },
    {
      "cell_type": "markdown",
      "metadata": {},
      "source": [
        "### Soru XXX\n",
        "\n",
        "Klavyeden girilen sayıya kadar olan sayılardan tek sayıların toplamını ve çift sayıların toplamını ayrı ayrı bulan kodu yazınız."
      ]
    },
    {
      "cell_type": "code",
      "execution_count": 10,
      "metadata": {},
      "outputs": [
        {
          "name": "stdout",
          "output_type": "stream",
          "text": [
            "Tek sayıların toplamı: 9\n",
            "Çift sayıların toplamı: 6\n"
          ]
        }
      ],
      "source": [
        "number = input('Bir sayı giriniz: ')\n",
        "\n",
        "oddTotal = 0\n",
        "evenTotal = 0\n",
        "\n",
        "for i in range(1, int(number)):\n",
        "    if(i % 2 == 0):\n",
        "        evenTotal += i\n",
        "    else:\n",
        "        oddTotal += i\n",
        "\n",
        "print(\"Tek sayıların toplamı: {0}\".format(oddTotal))\n",
        "print(\"Çift sayıların toplamı: {0}\".format(evenTotal))\n",
        "\n"
      ]
    },
    {
      "cell_type": "markdown",
      "metadata": {},
      "source": [
        "### Soru XXX\n",
        "Kullanıcı 'q' harfine basmadığı sürece kullanıcıdan sürekli olarak tam sayı alınız. Aldığınız tam sayıların;\n",
        "* Toplamını yazdırınız. \n",
        "* En büyüğünü yazdırınız.\n",
        "* En küçüğünü yazdırınız.\n",
        "* Ortalamasını yazdırınız.\n"
      ]
    },
    {
      "cell_type": "code",
      "execution_count": 13,
      "metadata": {},
      "outputs": [
        {
          "name": "stdout",
          "output_type": "stream",
          "text": [
            "Girilen sayıların toplamı: 14\n",
            "Girilen sayıların en büyüğü: 5\n",
            "Girilen sayıların en küçüğü: 2\n",
            "Girilen sayıların ortalaması: 3.5\n"
          ]
        }
      ],
      "source": [
        "smallestNumber = greatestNumber = None\n",
        "total = numberCounter = 0\n",
        "\n",
        "userInput = input('Tam sayı giriniz: ')\n",
        "\n",
        "while userInput != 'q':\n",
        "    userInput = int(userInput)\n",
        "    total += userInput\n",
        "\n",
        "    if greatestNumber is None or userInput > greatestNumber:\n",
        "        greatestNumber = userInput\n",
        "    if smallestNumber is None or userInput < smallestNumber:\n",
        "        smallestNumber = userInput\n",
        "    numberCounter += 1\n",
        "\n",
        "    userInput = input('Tam sayı giriniz...')\n",
        "\n",
        "print(f'Girilen sayıların toplamı: {total}')\n",
        "print(f'Girilen sayıların en büyüğü: {greatestNumber}')\n",
        "print(f'Girilen sayıların en küçüğü: {smallestNumber}')\n",
        "print(f'Girilen sayıların ortalaması: {total/numberCounter if numberCounter > 0 else 0 }')\n"
      ]
    },
    {
      "cell_type": "markdown",
      "metadata": {},
      "source": [
        "### Soru XXX\n",
        "Verilen iki sayının EBOB'unu ve EKOK'unu hesaplayın. "
      ]
    },
    {
      "cell_type": "code",
      "execution_count": null,
      "metadata": {},
      "outputs": [],
      "source": [
        "num1 = int(input(''))\n",
        "num2 = int(input(''))\n",
        "\n",
        "minValue = min(num1, num2) #min fonksiyonu en küçük sayıyı bulmayı sağlar.\n",
        "ebob = 1\n",
        "for i in range(1, minValue +1):\n",
        "    if num1 %i == 0 and num2 %i == 0:\n",
        "        ebob = i\n",
        "\n",
        "ekok = (num1 * num2) / ebob\n",
        "\n",
        "print(f'EBOB: {ebob}')\n",
        "print(f'EKOK: {ekok}')\n"
      ]
    },
    {
      "cell_type": "code",
      "execution_count": null,
      "metadata": {},
      "outputs": [],
      "source": [
        "number_1 = int(input(\"Birinci Sayıyı Giriniz : \"))\n",
        "number_2 = int(input(\"İkinci Sayıyı Giriniz : \"))\n",
        " \n",
        "if (number_1 > number_2):\n",
        "    kucuksayi = number_2\n",
        "\n",
        "else:\n",
        "    kucuksayi = number_1\n",
        "\n",
        "for i in range(1, kucuksayi + 1):\n",
        "    if (number_1 % i==0) and (number_2 % i ==0):\n",
        "        ebob = i\n",
        "        ekok = (number_1 * number_2)\n",
        "        \n",
        "print (\"EBOB:\", ebob)\n",
        "print (\"EKOK:\", ekok)\n"
      ]
    },
    {
      "cell_type": "markdown",
      "metadata": {},
      "source": [
        "### Soru XXX\n",
        "\n",
        "Aşağıdaki deseni oluşturunuz.\n",
        "\n",
        "```python \n",
        "*\n",
        " **\n",
        "***\n",
        "   ****\n",
        "*****\n",
        "     ******\n",
        "*******\n",
        "       ********\n",
        "*********\n",
        "         **********\n",
        "```"
      ]
    },
    {
      "cell_type": "code",
      "execution_count": 4,
      "metadata": {},
      "outputs": [
        {
          "name": "stdout",
          "output_type": "stream",
          "text": [
            "*\n",
            " **\n",
            "***\n",
            "   ****\n",
            "*****\n",
            "     ******\n",
            "*******\n",
            "       ********\n"
          ]
        }
      ],
      "source": [
        "rowCount = int(input())\n",
        "\n",
        "for rowIndex in range(1, rowCount + 1):\n",
        "    if rowIndex % 2 == 1:\n",
        "        print(rowIndex * '*')\n",
        "    else:\n",
        "        print((rowIndex - 1) * ' ' + rowIndex * '*')"
      ]
    },
    {
      "cell_type": "markdown",
      "metadata": {},
      "source": [
        "### Soru XXX\n",
        "Aşağıdaki şekilleri oluşturunuz.\n",
        "\n",
        "```python\n",
        "*           *****           *       *****           **         **********        *        *\n",
        "**          ****           **        ****          ****         ********         **      **\n",
        "***         ***           ***         ***         ******         ******          ***    ***\n",
        "****        **           ****          **        ********         ****           ****  ****\n",
        "*****       *           *****           *       **********         **            **********\n",
        "```"
      ]
    },
    {
      "cell_type": "code",
      "execution_count": 35,
      "metadata": {},
      "outputs": [
        {
          "name": "stdout",
          "output_type": "stream",
          "text": [
            "*\n",
            "**\n",
            "***\n",
            "****\n",
            "*****\n"
          ]
        }
      ],
      "source": [
        "rowCount = 5\n",
        "\n",
        "for rowIndex in range(1, rowCount + 1):\n",
        "    print(rowIndex * '*') \n",
        "    "
      ]
    },
    {
      "cell_type": "code",
      "execution_count": 36,
      "metadata": {},
      "outputs": [
        {
          "name": "stdout",
          "output_type": "stream",
          "text": [
            "\n",
            "*\n",
            "**\n",
            "***\n",
            "****\n",
            "*****\n"
          ]
        }
      ],
      "source": [
        "num = 5\n",
        "for i in range(num+1):\n",
        "  print(\"*\"*i)\n"
      ]
    },
    {
      "cell_type": "code",
      "execution_count": 38,
      "metadata": {},
      "outputs": [
        {
          "name": "stdout",
          "output_type": "stream",
          "text": [
            "* \n",
            "* * \n",
            "* * * \n",
            "* * * * \n",
            "* * * * * \n"
          ]
        }
      ],
      "source": [
        "row=5\n",
        "for i in range(row):\n",
        "  for j in range(i+1):\n",
        "    print(\"*\",end=(\" \"))\n",
        "  print()"
      ]
    },
    {
      "cell_type": "markdown",
      "metadata": {},
      "source": [
        "### Soru XXX\n",
        "Aşağıdaki şekilleri oluşturunuz.\n",
        "\n",
        "```python\n",
        "*           *****           *       *****           **         **********        *        *\n",
        "**          ****           **        ****          ****         ********         **      **\n",
        "***         ***           ***         ***         ******         ******          ***    ***\n",
        "****        **           ****          **        ********         ****           ****  ****\n",
        "*****       *           *****           *       **********         **            **********\n",
        "```"
      ]
    },
    {
      "cell_type": "code",
      "execution_count": 39,
      "metadata": {},
      "outputs": [
        {
          "name": "stdout",
          "output_type": "stream",
          "text": [
            "*****\n",
            "****\n",
            "***\n",
            "**\n",
            "*\n"
          ]
        }
      ],
      "source": [
        "rowCount = 5\n",
        "\n",
        "for rowIndex in range(rowCount):\n",
        "    print((rowCount - rowIndex) * '*') \n"
      ]
    },
    {
      "cell_type": "code",
      "execution_count": 40,
      "metadata": {},
      "outputs": [
        {
          "name": "stdout",
          "output_type": "stream",
          "text": [
            "* * * * * \n",
            "* * * * \n",
            "* * * \n",
            "* * \n",
            "* \n"
          ]
        }
      ],
      "source": [
        "number=5\n",
        "for i in range(number,0,-1):\n",
        " for j in range(i):\n",
        "    print(\"*\",end=\" \")\n",
        " print()\n"
      ]
    },
    {
      "cell_type": "code",
      "execution_count": 42,
      "metadata": {},
      "outputs": [
        {
          "name": "stdout",
          "output_type": "stream",
          "text": [
            "*****\n",
            "****\n",
            "***\n",
            "**\n",
            "*\n"
          ]
        }
      ],
      "source": [
        "rowCount = 5\n",
        "for rowIndex in range(rowCount,0,-1):\n",
        "  print(rowIndex * '*')\n"
      ]
    },
    {
      "cell_type": "markdown",
      "metadata": {},
      "source": [
        "### Soru XXX\n",
        "Aşağıdaki şekilleri oluşturunuz.\n",
        "\n",
        "```python\n",
        "*           *****           *       *****           **         **********        *        *\n",
        "**          ****           **        ****          ****         ********         **      **\n",
        "***         ***           ***         ***         ******         ******          ***    ***\n",
        "****        **           ****          **        ********         ****           ****  ****\n",
        "*****       *           *****           *       **********         **            **********\n",
        "```"
      ]
    },
    {
      "cell_type": "code",
      "execution_count": 43,
      "metadata": {},
      "outputs": [
        {
          "name": "stdout",
          "output_type": "stream",
          "text": [
            "    *\n",
            "   **\n",
            "  ***\n",
            " ****\n",
            "*****\n"
          ]
        }
      ],
      "source": [
        "rowCount = 5\n",
        "\n",
        "for rowIndex in range(1, rowCount +1):\n",
        "    print((rowCount - rowIndex) * ' ' + rowIndex * '*') \n",
        "    "
      ]
    },
    {
      "cell_type": "code",
      "execution_count": 44,
      "metadata": {},
      "outputs": [
        {
          "name": "stdout",
          "output_type": "stream",
          "text": [
            "     * \n",
            "    ** \n",
            "   *** \n",
            "  **** \n",
            " ***** \n"
          ]
        }
      ],
      "source": [
        "for i in range(5):\n",
        "  for j in range(i,5): \n",
        "    print(\"\", end=\" \")\n",
        "  for j in range(i+1): \n",
        "    print(\"*\", end=\"\")\n",
        "  print(\" \")\n"
      ]
    },
    {
      "cell_type": "code",
      "execution_count": 46,
      "metadata": {},
      "outputs": [
        {
          "name": "stdout",
          "output_type": "stream",
          "text": [
            "    *\n",
            "   **\n",
            "  ***\n",
            " ****\n",
            "*****\n"
          ]
        }
      ],
      "source": [
        "number=5\n",
        "for i in range(1,number+1):\n",
        "  print(\" \"*(number-i)+ \"*\"*i)\n"
      ]
    },
    {
      "cell_type": "markdown",
      "metadata": {},
      "source": [
        "### Soru XXX\n",
        "Aşağıdaki şekilleri oluşturunuz.\n",
        "\n",
        "```python\n",
        "*           *****           *       *****           **         **********        *        *\n",
        "**          ****           **        ****          ****         ********         **      **\n",
        "***         ***           ***         ***         ******         ******          ***    ***\n",
        "****        **           ****          **        ********         ****           ****  ****\n",
        "*****       *           *****           *       **********         **            **********\n",
        "```"
      ]
    },
    {
      "cell_type": "code",
      "execution_count": 47,
      "metadata": {},
      "outputs": [
        {
          "name": "stdout",
          "output_type": "stream",
          "text": [
            "*****\n",
            " ****\n",
            "  ***\n",
            "   **\n",
            "    *\n"
          ]
        }
      ],
      "source": [
        "rowCount = 5\n",
        "\n",
        "for rowIndex in range(rowCount):\n",
        "    print(rowIndex * ' ' +  (rowCount - rowIndex) * '*') \n",
        "\n"
      ]
    },
    {
      "cell_type": "code",
      "execution_count": 50,
      "metadata": {},
      "outputs": [
        {
          "name": "stdout",
          "output_type": "stream",
          "text": [
            " ***** \n",
            "  **** \n",
            "   *** \n",
            "    ** \n",
            "     * \n"
          ]
        }
      ],
      "source": [
        "for i in range(5):\n",
        "  for j in range(i+1): \n",
        "    print(\" \", end=\"\")\n",
        "  for j in range(i,5): \n",
        "    print(\"*\", end=\"\")\n",
        "  print(\" \")\n"
      ]
    },
    {
      "cell_type": "code",
      "execution_count": 51,
      "metadata": {},
      "outputs": [
        {
          "name": "stdout",
          "output_type": "stream",
          "text": [
            "  *****\n",
            "   ****\n",
            "    ***\n",
            "     **\n",
            "      *\n"
          ]
        }
      ],
      "source": [
        "for i in range(5,0,-1):\n",
        "    print(\" \"*(6-i), \"*\"*i, end=\"\")\n",
        "    print()\n"
      ]
    },
    {
      "cell_type": "code",
      "execution_count": 52,
      "metadata": {},
      "outputs": [
        {
          "name": "stdout",
          "output_type": "stream",
          "text": [
            " *****\n",
            "  ****\n",
            "   ***\n",
            "    **\n",
            "     *\n"
          ]
        }
      ],
      "source": [
        "num=5\n",
        "for i in range(num,0,-1):\n",
        "  print(\" \"*(num-i),\"*\"*i)\n"
      ]
    },
    {
      "cell_type": "code",
      "execution_count": 54,
      "metadata": {},
      "outputs": [
        {
          "name": "stdout",
          "output_type": "stream",
          "text": [
            "*****\n",
            " ****\n",
            "  ***\n",
            "   **\n",
            "    *\n"
          ]
        }
      ],
      "source": [
        "number=5\n",
        "for i in range(number):\n",
        "  print(\" \"*(i)+ \"*\"*(number-i))\n"
      ]
    },
    {
      "cell_type": "markdown",
      "metadata": {},
      "source": [
        "### Soru XXX\n",
        "Aşağıdaki şekilleri oluşturunuz.\n",
        "\n",
        "```python\n",
        "*           *****           *       *****           **         **********        *        *\n",
        "**          ****           **        ****          ****         ********         **      **\n",
        "***         ***           ***         ***         ******         ******          ***    ***\n",
        "****        **           ****          **        ********         ****           ****  ****\n",
        "*****       *           *****           *       **********         **            **********\n",
        "```"
      ]
    },
    {
      "cell_type": "code",
      "execution_count": 55,
      "metadata": {},
      "outputs": [
        {
          "name": "stdout",
          "output_type": "stream",
          "text": [
            "    **\n",
            "   ****\n",
            "  ******\n",
            " ********\n",
            "**********\n"
          ]
        }
      ],
      "source": [
        "rowCount = 5\n",
        "\n",
        "for rowIndex in range(1, rowCount+1):\n",
        "    print((rowCount - rowIndex) * ' ' + (rowIndex * 2) * '*')"
      ]
    },
    {
      "cell_type": "code",
      "execution_count": 56,
      "metadata": {},
      "outputs": [
        {
          "name": "stdout",
          "output_type": "stream",
          "text": [
            "     **     \n",
            "    ****    \n",
            "   ******   \n",
            "  ********  \n",
            " ********** \n"
          ]
        }
      ],
      "source": [
        "for i in range(2,11,2):\n",
        "    print(\" \"*int((10-i)/2), \"*\"*i, \" \"*int((10-i)/2), end=\"\")\n",
        "    print()\n"
      ]
    },
    {
      "cell_type": "code",
      "execution_count": 58,
      "metadata": {},
      "outputs": [
        {
          "name": "stdout",
          "output_type": "stream",
          "text": [
            "      **\n",
            "     ****\n",
            "    ******\n",
            "   ********\n",
            "  **********\n"
          ]
        }
      ],
      "source": [
        "for i in range(1,6):\n",
        "    print((6-i)*\" \",\"*\"*2*i)\n"
      ]
    },
    {
      "cell_type": "code",
      "execution_count": 59,
      "metadata": {},
      "outputs": [
        {
          "name": "stdout",
          "output_type": "stream",
          "text": [
            "    *\n",
            "   ***\n",
            "  *****\n",
            " *******\n",
            "*********\n"
          ]
        }
      ],
      "source": [
        "satir = 5\n",
        "\n",
        "for i in range(satir):\n",
        "    print(' '*(satir-i-1) + '*'*(2*i+1))\n"
      ]
    },
    {
      "cell_type": "markdown",
      "metadata": {},
      "source": [
        "### Soru XXX\n",
        "Aşağıdaki şekilleri oluşturunuz.\n",
        "\n",
        "```python\n",
        "*           *****           *       *****           **         **********        *        *\n",
        "**          ****           **        ****          ****         ********         **      **\n",
        "***         ***           ***         ***         ******         ******          ***    ***\n",
        "****        **           ****          **        ********         ****           ****  ****\n",
        "*****       *           *****           *       **********         **            **********\n",
        "```"
      ]
    },
    {
      "cell_type": "code",
      "execution_count": 63,
      "metadata": {},
      "outputs": [
        {
          "name": "stdout",
          "output_type": "stream",
          "text": [
            "    **\n",
            "   ****\n",
            "  ******\n",
            " ********\n",
            "**********\n"
          ]
        }
      ],
      "source": [
        "\n",
        "rowCount = 5\n",
        "for rowIndex in range(1, rowCount + 1):\n",
        "    print((rowCount - rowIndex) * ' ' + (rowIndex * 2) * '*') \n"
      ]
    },
    {
      "cell_type": "code",
      "execution_count": 64,
      "metadata": {},
      "outputs": [
        {
          "name": "stdout",
          "output_type": "stream",
          "text": [
            "**********\n",
            " ********\n",
            "  ******\n",
            "   ****\n",
            "    **\n"
          ]
        }
      ],
      "source": [
        "rowCount = 5\n",
        "\n",
        "for rowIndex in range(rowCount):\n",
        "    print((rowIndex) * ' ' + ((rowCount - rowIndex) * 2) * '*')  \n",
        "    "
      ]
    },
    {
      "cell_type": "code",
      "execution_count": 65,
      "metadata": {},
      "outputs": [
        {
          "name": "stdout",
          "output_type": "stream",
          "text": [
            " ********** \n",
            "  ********  \n",
            "   ******   \n",
            "    ****    \n",
            "     **     \n"
          ]
        }
      ],
      "source": [
        "for i in range(10,0,-2):\n",
        "    print(\" \"*int((10-i)/2), \"*\"*i, \" \"*int((10-i)/2), end=\"\")\n",
        "    print()\n"
      ]
    },
    {
      "cell_type": "code",
      "execution_count": 66,
      "metadata": {},
      "outputs": [
        {
          "name": "stdout",
          "output_type": "stream",
          "text": [
            "**********\n",
            " ********\n",
            "  ******\n",
            "   ****\n",
            "    **\n"
          ]
        }
      ],
      "source": [
        "rowCount = 5\n",
        "for rowIndex in range(rowCount,0,-1):\n",
        "  print((rowCount - rowIndex) * \" \" + (rowIndex * 2) * \"*\")\n"
      ]
    },
    {
      "cell_type": "code",
      "execution_count": 67,
      "metadata": {},
      "outputs": [
        {
          "name": "stdout",
          "output_type": "stream",
          "text": [
            " **********\n",
            "  ********\n",
            "   ******\n",
            "    ****\n",
            "     **\n"
          ]
        }
      ],
      "source": [
        "for i in range(10,0,-2):\n",
        "  print(\" \"*int((10-i)/2), \"*\"*i)\n"
      ]
    },
    {
      "cell_type": "markdown",
      "metadata": {},
      "source": [
        "### Soru XXX\n",
        "Aşağıdaki şekilleri oluşturunuz.\n",
        "\n",
        "```python\n",
        "*           *****           *       *****           **         **********        *        *\n",
        "**          ****           **        ****          ****         ********         **      **\n",
        "***         ***           ***         ***         ******         ******          ***    ***\n",
        "****        **           ****          **        ********         ****           ****  ****\n",
        "*****       *           *****           *       **********         **            **********\n",
        "```"
      ]
    },
    {
      "cell_type": "code",
      "execution_count": 68,
      "metadata": {},
      "outputs": [
        {
          "name": "stdout",
          "output_type": "stream",
          "text": [
            "          \n",
            "*        *\n",
            "**      **\n",
            "***    ***\n",
            "****  ****\n",
            "**********\n"
          ]
        }
      ],
      "source": [
        "rowCount = 5\n",
        "\n",
        "for rowIndex in range( rowCount +1):\n",
        "    print((rowIndex) * '*' + ((rowCount - rowIndex) * 2) * ' ' + rowIndex * '*')"
      ]
    },
    {
      "cell_type": "code",
      "execution_count": 72,
      "metadata": {},
      "outputs": [
        {
          "name": "stdout",
          "output_type": "stream",
          "text": [
            "          \n",
            "*        *\n",
            "**      **\n",
            "***    ***\n",
            "****  ****\n",
            "**********\n"
          ]
        }
      ],
      "source": [
        "rowCount = 5\n",
        "for i in range(0, rowCount+1):\n",
        "    print(\"*\"*(i) + \" \"*(rowCount-i)*2 +  \"*\"*(i),end=\"\")\n",
        "    print()\n"
      ]
    },
    {
      "cell_type": "code",
      "execution_count": 69,
      "metadata": {},
      "outputs": [
        {
          "name": "stdout",
          "output_type": "stream",
          "text": [
            "*        *\n",
            "**      **\n",
            "***    ***\n",
            "****  ****\n",
            "**********\n"
          ]
        }
      ],
      "source": [
        "for rowCount in range(1,rowIndex+1):\n",
        "       print(\"*\" * rowCount+\" \"* ((rowIndex-rowCount)*2) + \"*\"*rowCount)\n"
      ]
    },
    {
      "cell_type": "markdown",
      "metadata": {
        "id": "OGrHayCn1pn5"
      },
      "source": [
        "### Soru XXX\n",
        "Aşağıdaki şekli oluşturunuz.\n",
        "```python\n",
        "**********\n",
        "****  ****\n",
        "***    ***\n",
        "**      **\n",
        "*        *\n",
        "```"
      ]
    },
    {
      "cell_type": "code",
      "execution_count": 73,
      "metadata": {},
      "outputs": [
        {
          "name": "stdout",
          "output_type": "stream",
          "text": [
            "**********\n",
            "****  ****\n",
            "***    ***\n",
            "**      **\n",
            "*        *\n",
            "          \n"
          ]
        }
      ],
      "source": [
        "rowCount = 5\n",
        "\n",
        "for rowIndex in range(rowCount + 1):\n",
        "  print((rowCount - rowIndex) * '*' + (rowIndex * 2) * ' ' + (rowCount - rowIndex) * '*')"
      ]
    },
    {
      "cell_type": "markdown",
      "metadata": {
        "id": "nWq46u9q4c0e"
      },
      "source": [
        "### Soru XXX\n",
        "Aşağıdaki şekli oluşturunuz.\n",
        "```python\n",
        "**********\n",
        "****  ****\n",
        "***    ***\n",
        "**      **\n",
        "*        *\n",
        "*        *\n",
        "**      **\n",
        "***    ***\n",
        "****  ****\n",
        "**********\n",
        "```"
      ]
    },
    {
      "cell_type": "code",
      "execution_count": 74,
      "metadata": {},
      "outputs": [
        {
          "name": "stdout",
          "output_type": "stream",
          "text": [
            "**********\n",
            "****  ****\n",
            "***    ***\n",
            "**      **\n",
            "*        *\n",
            "*        *\n",
            "**      **\n",
            "***    ***\n",
            "****  ****\n",
            "**********\n"
          ]
        }
      ],
      "source": [
        "rowCount = 5\n",
        "for rowIndex in range(rowCount):\n",
        "  print((rowCount - rowIndex) * '*' + (rowIndex * 2) * ' ' + (rowCount - rowIndex) * '*')\n",
        "for rowIndex in range(rowCount):\n",
        "  print((rowIndex + 1) * '*' + ((rowCount - rowIndex - 1) * 2) * ' ' + (rowIndex + 1) * '*')"
      ]
    }
  ],
  "metadata": {
    "colab": {
      "collapsed_sections": [],
      "provenance": []
    },
    "kernelspec": {
      "display_name": "Python 3.10.5 64-bit",
      "language": "python",
      "name": "python3"
    },
    "language_info": {
      "codemirror_mode": {
        "name": "ipython",
        "version": 3
      },
      "file_extension": ".py",
      "mimetype": "text/x-python",
      "name": "python",
      "nbconvert_exporter": "python",
      "pygments_lexer": "ipython3",
      "version": "3.10.5"
    },
    "vscode": {
      "interpreter": {
        "hash": "809676a54b8ab5d78ae67a625bb8f51c2b0f3ae9db99b4fbdcab59ab2ddb6b90"
      }
    }
  },
  "nbformat": 4,
  "nbformat_minor": 0
}
