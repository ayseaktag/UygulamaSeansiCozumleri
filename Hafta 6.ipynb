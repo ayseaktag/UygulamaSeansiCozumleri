{
  "cells": [
    {
      "cell_type": "markdown",
      "metadata": {
        "id": "AHn-4qIfQj18"
      },
      "source": [
        "### Soru XXX\n",
        "Kullanıcının girdiği ad, soyad ve yaş bilgilerini tutan bir dictionary oluşturunuz.\n",
        "- Kullanıcının ad değerini, büyük harfler ile güncelleyiniz. \n",
        "- Kullanıcının yaş değerine 2 ekleyiniz.\n",
        "- Dictionary'e kullanıcının en sevdiği rengi ekleyiniz key-value şeklinde ekleyiniz.\n",
        "- Kullanıcının adını ve soyadını kapsayan yeni bir key-value ekleyiniz.\n",
        "- Kullanıcının ad değerini dictionary'den kaldırınız."
      ]
    },
    {
      "cell_type": "code",
      "source": [
        "name, surname, age = input(), input(), int(input())\n",
        "userDict = {\"Name\":name, \"Surname\": surname, \"Age\": age}\n",
        "\n",
        "#Soru 1 Çözüm 1\n",
        "# userDict[\"Name\"] = userDict[\"Name\"].upper() \n",
        "# userDict[\"Surname\"] = userDict[\"Surname\"].upper() \n",
        "\n",
        "#Soru 1 Çözüm 2\n",
        "userDict.update({\"Name\":userDict[\"Name\"].upper(), \"Surname\":userDict[\"Surname\"].upper()})\n",
        "\n",
        "#Soru 2\n",
        "userDict[\"Age\"] += 2\n",
        "\n",
        "#Soru 3 \n",
        "favouriteColor = \"blue\"\n",
        "userDict[\"Color\"] = favouriteColor\n",
        "\n",
        "#Soru 4\n",
        "userDict[\"FullName\"] = userDict[\"Name\"] + ' ' + userDict[\"Surname\"]\n",
        "\n",
        "#Soru 5\n",
        "del userDict[\"Name\"]\n",
        "print(userDict)"
      ],
      "metadata": {
        "colab": {
          "base_uri": "https://localhost:8080/"
        },
        "id": "YJvG8ISbQmoY",
        "outputId": "dcad598e-f431-4b46-dd83-dbc4b31247dc"
      },
      "execution_count": null,
      "outputs": [
        {
          "output_type": "stream",
          "name": "stdout",
          "text": [
            "emre\n",
            "gelen\n",
            "23\n",
            "{'Surname': 'GELEN', 'Age': 25, 'Color': 'blue', 'FullName': 'EMRE GELEN'}\n"
          ]
        }
      ]
    },
    {
      "cell_type": "markdown",
      "metadata": {
        "id": "ZOZiGrHSQj1_"
      },
      "source": [
        "### Soru XXX\n",
        "Kullanıcının verdiği aralığa göre, key değerleri o anki sayı, value değerleri o anki sayının karesi olan bir dictionary oluşturunuz.\n",
        "\n",
        "Örnek olarak, kullanıcı aralık olarak 2 ve 7 girmiş olsun. Bizden beklenen dictionary şu şekilde olmalıdır;\n",
        "\n",
        "```python\n",
        "{2: 4, 3: 9, 4: 16, 5: 25, 6:36, 7:49}\n",
        "```"
      ]
    },
    {
      "cell_type": "code",
      "source": [
        "start, end = int(input()), int(input())\n",
        "\n",
        "myDict = {}\n",
        "for number in range(start, end + 1):\n",
        "  myDict[number] = number ** 2\n",
        "\n",
        "print(myDict)"
      ],
      "metadata": {
        "colab": {
          "base_uri": "https://localhost:8080/"
        },
        "id": "8bZBy6hnSrmK",
        "outputId": "855806a4-4d39-4d09-a922-09224068398a"
      },
      "execution_count": null,
      "outputs": [
        {
          "output_type": "stream",
          "name": "stdout",
          "text": [
            "2\n",
            "7\n",
            "{2: 4, 3: 9, 4: 16, 5: 25, 6: 36, 7: 49}\n"
          ]
        }
      ]
    },
    {
      "cell_type": "markdown",
      "metadata": {
        "id": "T3KZ1TT7Qj1_"
      },
      "source": [
        "### Soru XXX\n",
        "Aşağıda verilen liste ile istenilen işlemleri yapınız.\n",
        "- Yaşı 20'den büyük olanları ekrana yazdırınız.\n",
        "- Adı 'A' ile başlayanları ekrana yazdırınız.\n",
        "- Soyadı 'J' ile başlayanları ekrana yazdırınız.\n",
        "- Adı 'C' ile soyadı 'A' ile başlayanları ekrana yazdırınız.\n",
        "- Adının içinde 'A' ahrfi geçenleri ekrana yazdırınız.\n",
        "- Yaşı tek sayı olanları ekrana yazdırınız.\n",
        "- Kullanının yaşını, (kullanıcının yaşı + kullanıcının soyadının uzunluğu) şeklinde güncelleyiniz.\n",
        "- Kullanıcının adını ve soyadını içeren FullName adında yeni bir key-value pair oluşturunuz."
      ]
    },
    {
      "cell_type": "code",
      "execution_count": null,
      "metadata": {
        "id": "2hFE-AmHQj2A"
      },
      "outputs": [],
      "source": [
        "myUsers = [\n",
        "    {\n",
        "        \"Name\":\"Rosalind\",\n",
        "        \"Surname\": \"Rich\",\n",
        "        \"Age\": 23\n",
        "    }\n",
        "    ,{\n",
        "        \"Name\":\"Annika\",\n",
        "        \"Surname\": \"Keenan\",\n",
        "        \"Age\": 28\n",
        "    }\n",
        "    ,{\n",
        "        \"Name\":\"Emillie\",\n",
        "        \"Surname\": \"Plummer\",\n",
        "        \"Age\": 17\n",
        "    }\n",
        "    ,{\n",
        "        \"Name\":\"Kourtney\",\n",
        "        \"Surname\": \"Pate\",\n",
        "        \"Age\": 30\n",
        "    }\n",
        "    ,{\n",
        "        \"Name\":\"Virgil\",\n",
        "        \"Surname\": \"Solomon\",\n",
        "        \"Age\": 40\n",
        "    }\n",
        "    ,{\n",
        "        \"Name\":\"Bobby\",\n",
        "        \"Surname\": \"Jordan\",\n",
        "        \"Age\":33\n",
        "    }\n",
        "    ,{\n",
        "        \"Name\":\"Alfie\",\n",
        "        \"Surname\":\"James Robson\",\n",
        "        \"Age\": 16\n",
        "    } \n",
        "    ,{\n",
        "        \"Name\":\"Isla\",\n",
        "        \"Surname\":\"Grace Tran\",\n",
        "        \"Age\": 64\n",
        "    } \n",
        "    ,{\n",
        "        \"Name\":\"Arif\",\n",
        "        \"Surname\": \"Rivas\",\n",
        "        \"Age\": 43\n",
        "    }\n",
        "    ,{\n",
        "        \"Name\":\"Zakaria\",\n",
        "        \"Surname\": \"Whitehead\",\n",
        "        \"Age\": 82\n",
        "    }\n",
        "    ,{\n",
        "        \"Name\":\"Casper\",\n",
        "        \"Surname\": \"Velasquez\",\n",
        "        \"Age\": 57\n",
        "    }\n",
        "    ,{\n",
        "        \"Name\":\"Caoimhe\",\n",
        "        \"Surname\": \"Ali\",\n",
        "        \"Age\": 34\n",
        "    }\n",
        "    ,{\n",
        "        \"Name\":\"Viola\",\n",
        "        \"Surname\": \"Shepherd\",\n",
        "        \"Age\": 18\n",
        "    }\n",
        "]"
      ]
    },
    {
      "cell_type": "code",
      "execution_count": null,
      "metadata": {
        "colab": {
          "base_uri": "https://localhost:8080/"
        },
        "id": "7Mt3ZBVVQj2B",
        "outputId": "859f23cc-f09b-4e4c-bf0a-b6708f588936"
      },
      "outputs": [
        {
          "output_type": "stream",
          "name": "stdout",
          "text": [
            "[{'Name': 'Rosalind', 'Surname': 'Rich', 'Age': 31}, {'Name': 'Annika', 'Surname': 'Keenan', 'Age': 40}, {'Name': 'Emillie', 'Surname': 'Plummer', 'Age': 31}, {'Name': 'Kourtney', 'Surname': 'Pate', 'Age': 38}, {'Name': 'Virgil', 'Surname': 'Solomon', 'Age': 54}, {'Name': 'Bobby', 'Surname': 'Jordan', 'Age': 45}, {'Name': 'Alfie', 'Surname': 'James Robson', 'Age': 40}, {'Name': 'Isla', 'Surname': 'Grace Tran', 'Age': 84}, {'Name': 'Arif', 'Surname': 'Rivas', 'Age': 53}, {'Name': 'Zakaria', 'Surname': 'Whitehead', 'Age': 100}, {'Name': 'Casper', 'Surname': 'Velasquez', 'Age': 75}, {'Name': 'Caoimhe', 'Surname': 'Ali', 'Age': 40}, {'Name': 'Viola', 'Surname': 'Shepherd', 'Age': 34}]\n",
            "[{'Name': 'Annika', 'Surname': 'Keenan', 'Age': 40}, {'Name': 'Alfie', 'Surname': 'James Robson', 'Age': 40}, {'Name': 'Arif', 'Surname': 'Rivas', 'Age': 53}]\n",
            "[{'Name': 'Bobby', 'Surname': 'Jordan', 'Age': 45}, {'Name': 'Alfie', 'Surname': 'James Robson', 'Age': 40}]\n",
            "[{'Name': 'Caoimhe', 'Surname': 'Ali', 'Age': 40}]\n",
            "[{'Name': 'Rosalind', 'Surname': 'Rich', 'Age': 31}, {'Name': 'Annika', 'Surname': 'Keenan', 'Age': 40}, {'Name': 'Alfie', 'Surname': 'James Robson', 'Age': 40}, {'Name': 'Isla', 'Surname': 'Grace Tran', 'Age': 84}, {'Name': 'Arif', 'Surname': 'Rivas', 'Age': 53}, {'Name': 'Zakaria', 'Surname': 'Whitehead', 'Age': 100}, {'Name': 'Casper', 'Surname': 'Velasquez', 'Age': 75}, {'Name': 'Caoimhe', 'Surname': 'Ali', 'Age': 40}, {'Name': 'Viola', 'Surname': 'Shepherd', 'Age': 34}]\n",
            "[{'Name': 'Rosalind', 'Surname': 'Rich', 'Age': 31}, {'Name': 'Emillie', 'Surname': 'Plummer', 'Age': 31}, {'Name': 'Bobby', 'Surname': 'Jordan', 'Age': 45}, {'Name': 'Arif', 'Surname': 'Rivas', 'Age': 53}, {'Name': 'Casper', 'Surname': 'Velasquez', 'Age': 75}]\n",
            "[{'Name': 'Rosalind', 'Surname': 'Rich', 'Age': 35}, {'Name': 'Annika', 'Surname': 'Keenan', 'Age': 46}, {'Name': 'Emillie', 'Surname': 'Plummer', 'Age': 38}, {'Name': 'Kourtney', 'Surname': 'Pate', 'Age': 42}, {'Name': 'Virgil', 'Surname': 'Solomon', 'Age': 61}, {'Name': 'Bobby', 'Surname': 'Jordan', 'Age': 51}, {'Name': 'Alfie', 'Surname': 'James Robson', 'Age': 52}, {'Name': 'Isla', 'Surname': 'Grace Tran', 'Age': 94}, {'Name': 'Arif', 'Surname': 'Rivas', 'Age': 58}, {'Name': 'Zakaria', 'Surname': 'Whitehead', 'Age': 109}, {'Name': 'Casper', 'Surname': 'Velasquez', 'Age': 84}, {'Name': 'Caoimhe', 'Surname': 'Ali', 'Age': 43}, {'Name': 'Viola', 'Surname': 'Shepherd', 'Age': 42}]\n",
            "[{'Name': 'Rosalind', 'Surname': 'Rich', 'Age': 35, 'FullName': 'Rosalind Rich'}, {'Name': 'Annika', 'Surname': 'Keenan', 'Age': 46, 'FullName': 'Annika Keenan'}, {'Name': 'Emillie', 'Surname': 'Plummer', 'Age': 38, 'FullName': 'Emillie Plummer'}, {'Name': 'Kourtney', 'Surname': 'Pate', 'Age': 42, 'FullName': 'Kourtney Pate'}, {'Name': 'Virgil', 'Surname': 'Solomon', 'Age': 61, 'FullName': 'Virgil Solomon'}, {'Name': 'Bobby', 'Surname': 'Jordan', 'Age': 51, 'FullName': 'Bobby Jordan'}, {'Name': 'Alfie', 'Surname': 'James Robson', 'Age': 52, 'FullName': 'Alfie James Robson'}, {'Name': 'Isla', 'Surname': 'Grace Tran', 'Age': 94, 'FullName': 'Isla Grace Tran'}, {'Name': 'Arif', 'Surname': 'Rivas', 'Age': 58, 'FullName': 'Arif Rivas'}, {'Name': 'Zakaria', 'Surname': 'Whitehead', 'Age': 109, 'FullName': 'Zakaria Whitehead'}, {'Name': 'Casper', 'Surname': 'Velasquez', 'Age': 84, 'FullName': 'Casper Velasquez'}, {'Name': 'Caoimhe', 'Surname': 'Ali', 'Age': 43, 'FullName': 'Caoimhe Ali'}, {'Name': 'Viola', 'Surname': 'Shepherd', 'Age': 42, 'FullName': 'Viola Shepherd'}]\n"
          ]
        }
      ],
      "source": [
        "#Soru 1\n",
        "print(list(filter(lambda userDict:userDict[\"Age\"] > 20, myUsers)))\n",
        "\n",
        "#Soru 2\n",
        "print(list(filter(lambda userDict:userDict[\"Name\"][0].lower() == 'a', myUsers)))\n",
        "\n",
        "#Soru 3\n",
        "print(list(filter(lambda userDict:userDict[\"Surname\"][0].lower() == 'j', myUsers)))\n",
        "\n",
        "#Soru 4\n",
        "print(list(filter(lambda userDict:userDict[\"Name\"][0].lower() == 'c' and userDict[\"Surname\"][0].lower() == 'a', myUsers)))\n",
        "\n",
        "#Soru 5\n",
        "print(list(filter(lambda userDict:'a' in userDict[\"Name\"].lower(), myUsers)))\n",
        "\n",
        "#Soru 6\n",
        "print(list(filter(lambda userDict:userDict[\"Age\"] % 2 == 1, myUsers)))\n",
        "\n",
        "#Soru 7\n",
        "myUsers = list(map(lambda userDict: {\"Name\": userDict[\"Name\"], \"Surname\": userDict[\"Surname\"], \"Age\": userDict[\"Age\"] + len(userDict[\"Surname\"])}, myUsers))\n",
        "print(myUsers)\n",
        "\n",
        "#Soru 8\n",
        "myUsers = list(map(lambda userDict: {\"Name\": userDict[\"Name\"], \"Surname\": userDict[\"Surname\"], \"Age\": userDict[\"Age\"], \"FullName\": userDict[\"Name\"] + ' ' + userDict[\"Surname\"]}, myUsers))\n",
        "print(myUsers)\n",
        "\n",
        "# print(list(map(lambda person: {\"Name\": person[\"Name\"],\"Surname\": person[\"Surname\"],\"Age\": person[\"Age\"] + len(person[\"Surname\"])}, myUsers)))"
      ]
    },
    {
      "cell_type": "markdown",
      "metadata": {
        "id": "NXD8m1gmQj2C"
      },
      "source": [
        "### Soru XXX\n",
        "Kullanıcının girdiği string içerisindeki unique karakterleri ekrana yazdırınız."
      ]
    },
    {
      "cell_type": "code",
      "source": [
        "userInput = input()\n",
        "print(set(userInput))"
      ],
      "metadata": {
        "colab": {
          "base_uri": "https://localhost:8080/"
        },
        "id": "UwZo6Jh7XOqI",
        "outputId": "650d39b3-b20a-47e4-9734-d59fa95590ef"
      },
      "execution_count": null,
      "outputs": [
        {
          "output_type": "stream",
          "name": "stdout",
          "text": [
            "asdsahaesgtfas\n",
            "{'a', 'f', 'e', 't', 'd', 's', 'h', 'g'}\n"
          ]
        }
      ]
    },
    {
      "cell_type": "markdown",
      "metadata": {
        "id": "fcXIJIRYQj2D"
      },
      "source": [
        "### Soru XXX\n",
        "Verilen iki set için aşağıdaki işlemleri yapınız;\n",
        "- İki set arasındaki farkı ekrana yazdırınız.\n",
        "- İki set içerisinde ortak olanları ekrana yazdırınız.\n",
        "- İki seti birleştirip ekrana yazdırınız.\n",
        "- İlk set içerisinde olmayıp ikinci set içerisinde olan değerleri ekrana yazdırınız.\n",
        "- İkinci set içerisinde olmayıp ilk set içerisinde olan değerleri ekrana yazdırınız.\n",
        "\n",
        "```python\n",
        "set1 = {True, False, 1, 2, 3, 4, 's', 'i', 's', 't', 'e'}\n",
        "set2 = {'r', 's', 'l', 'a', 'b', None, 6, 7, 8, 9}\n",
        "```"
      ]
    },
    {
      "cell_type": "code",
      "source": [
        "set1 = {True, False, 1, 2, 3, 4, 's', 'i', 's', 't', 'e'}\n",
        "set2 = {'r', 's', 'l', 'a', 'b', None, 6, 7, 8, 9}\n",
        "\n",
        "print(set1 ^ set2)\n",
        "print(set1 & set2)\n",
        "print(set1 | set2)\n",
        "print(set1 - set2)\n",
        "print(set2 - set1)"
      ],
      "metadata": {
        "colab": {
          "base_uri": "https://localhost:8080/"
        },
        "id": "WkY1D9FQXYH3",
        "outputId": "4753243a-c7e0-4212-afc8-b853c0e3bd21"
      },
      "execution_count": null,
      "outputs": [
        {
          "output_type": "stream",
          "name": "stdout",
          "text": [
            "{'a', None, False, True, 2, 3, 6, 7, 8, 9, 'b', 4, 'i', 'e', 'r', 't', 'l'}\n",
            "{'s'}\n",
            "{False, True, 2, 3, 4, 'i', 6, 7, 8, 9, 'b', 'e', 'l', 'a', None, 't', 'r', 's'}\n",
            "{False, True, 2, 3, 4, 'i', 'e', 't'}\n",
            "{'a', None, 6, 7, 8, 9, 'b', 'r', 'l'}\n"
          ]
        }
      ]
    },
    {
      "cell_type": "markdown",
      "metadata": {
        "id": "JKuG8D6aQj2D"
      },
      "source": [
        "### Soru XXX\n",
        "Kullanıcıdan alınan string ifadedeki karakterlerin kaç kere tekrar ettiğini tutan bir dictionary oluşturunuz.\n",
        "\n",
        "sisterslab için örnek çıktı şu şekilde olmalıdır \n",
        "\n",
        "```python\n",
        "{'s': 3, 'r': 1, 'e': 1, 'l': 1, 'b': 1, 't': 1, 'a': 1, 'i': 1}\n",
        "```"
      ]
    },
    {
      "cell_type": "code",
      "execution_count": null,
      "metadata": {
        "colab": {
          "base_uri": "https://localhost:8080/"
        },
        "id": "lVH4AOTxQj2D",
        "outputId": "45e6b0dd-a81c-4c9e-c9e4-365625222e0f"
      },
      "outputs": [
        {
          "output_type": "stream",
          "name": "stdout",
          "text": [
            "sisterslab\n",
            "{'s': 3, 'i': 1, 't': 1, 'e': 1, 'r': 1, 'l': 1, 'a': 1, 'b': 1}\n"
          ]
        }
      ],
      "source": [
        "userInput = input()\n",
        "\n",
        "characterCountDict = {}\n",
        "\n",
        "for character in userInput:\n",
        "  if character in characterCountDict:\n",
        "    characterCountDict[character] += 1\n",
        "  else:\n",
        "    characterCountDict[character] = 1\n",
        "\n",
        "print(characterCountDict)"
      ]
    }
  ],
  "metadata": {
    "kernelspec": {
      "display_name": "Python 3.10.5 64-bit",
      "language": "python",
      "name": "python3"
    },
    "language_info": {
      "codemirror_mode": {
        "name": "ipython",
        "version": 3
      },
      "file_extension": ".py",
      "mimetype": "text/x-python",
      "name": "python",
      "nbconvert_exporter": "python",
      "pygments_lexer": "ipython3",
      "version": "3.10.5"
    },
    "orig_nbformat": 4,
    "vscode": {
      "interpreter": {
        "hash": "d7cdd4bd10924f2a5600f3e3f8ff8c4f45ce4e033c01be5511cc2e78bc05c683"
      }
    },
    "colab": {
      "provenance": [],
      "collapsed_sections": []
    }
  },
  "nbformat": 4,
  "nbformat_minor": 0
}