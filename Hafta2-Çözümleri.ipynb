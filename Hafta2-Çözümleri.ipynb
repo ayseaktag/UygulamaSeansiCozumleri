{
 "cells": [
  {
   "cell_type": "code",
   "execution_count": null,
   "metadata": {},
   "outputs": [],
   "source": [
    "#variable: değişken\n",
    "3 tane farklı değişken tanımlayıp bu değişkenlerin hepsine aynı değeri atınız ve bunu olabilecek en kısa yoldan yapınız :)"
   ]
  },
  {
   "cell_type": "code",
   "execution_count": null,
   "metadata": {},
   "outputs": [],
   "source": [
    "var, var2, var3 = 'Same Value'\n",
    "\n",
    "num1 = num2 = num3 = 5"
   ]
  },
  {
   "cell_type": "markdown",
   "metadata": {},
   "source": [
    "Bir global değişken tanımlayıp bu değişkene bir fonksiyon erişip değerini değiştiriniz.(Fonksiyonun değer değiştirme dışında bir şey yapmasına gerek yoktur.)"
   ]
  },
  {
   "cell_type": "markdown",
   "metadata": {},
   "source": [
    "Yerel Değişken: Yalnızca tanımlandığı kod bloğu içerisinde sınırlı olan değişkendir. \n",
    "Yerel değişkenler, fonksiyona özgüdür ve erişim bittikten sonra bellekten silinmektedirler. \n",
    "Kodun ana kısmında oluşturulan değişken (global değişken), fonksiyon içerisinde de kullanılabilir \n",
    "ama fonksiyon içerisinde oluşturulan bir değişken (yerel değişken) ise ana gövde de kullanılamaz.\n",
    "Global Değişken: Fonksiyonun dışında tanımlanan, fonksiyonun herhangi bir yerinden erişimi olan değişkenlerdir. \n",
    "Global komutu ile yerel olan bir değişkeni global bir değişkene dönüştürmek mümkündür."
   ]
  },
  {
   "cell_type": "code",
   "execution_count": 17,
   "metadata": {},
   "outputs": [
    {
     "name": "stdout",
     "output_type": "stream",
     "text": [
      "HelloGirls\n"
     ]
    }
   ],
   "source": [
    "\n",
    "globalVar = 'Hello'\n",
    "\n",
    "def func():\n",
    "    global globalVar\n",
    "    globalVar += 'Girls'\n",
    "\n",
    "func()\n",
    "print(globalVar)"
   ]
  },
  {
   "cell_type": "markdown",
   "metadata": {},
   "source": [
    "Aşağıdaki kod bloğu çalıştığında çıkan sonuç ne olur?\n",
    "Hata verir mi? Verirse neyden kaynaklı bir hata verir ve nasıl düzeltebiliriz?"
   ]
  },
  {
   "cell_type": "code",
   "execution_count": 27,
   "metadata": {},
   "outputs": [
    {
     "name": "stdout",
     "output_type": "stream",
     "text": [
      "90\n"
     ]
    }
   ],
   "source": [
    "globalVariable = 50\n",
    "\n",
    "def add50toGlobal():\n",
    "    globalVariable += 50\n",
    "\n",
    "def add30toGlobal():\n",
    "    global globalVariable\n",
    "    globalVariable += 30\n",
    "\n",
    "def add10toGlobal():\n",
    "    global globalVariable\n",
    "    globalVariable += 10\n",
    "\n",
    "add10toGlobal()\n",
    "add30toGlobal()\n",
    "\n",
    "print(globalVariable)"
   ]
  },
  {
   "cell_type": "markdown",
   "metadata": {},
   "source": [
    "Aşağıdaki kod bloğunun istenilen çıktıyı vermesi için gerekli değişikleri yapınız.\n",
    "\n",
    "İstenilen Çıktı 'Hello Sisters'"
   ]
  },
  {
   "cell_type": "code",
   "execution_count": 4,
   "metadata": {},
   "outputs": [],
   "source": [
    "helloStr = None\n",
    "sistersStr = None\n",
    "conditionVal = None\n",
    "\n",
    "if helloStr == 'Hello' and sistersStr == 'Sisters' and type(conditionVal) is float and conditionVal > 5:\n",
    "    print(helloStr,sistersStr)"
   ]
  },
  {
   "cell_type": "code",
   "execution_count": 25,
   "metadata": {},
   "outputs": [
    {
     "name": "stdout",
     "output_type": "stream",
     "text": [
      "Hello Sisters\n"
     ]
    }
   ],
   "source": [
    "helloStr = 'Hello'\n",
    "sistersStr = 'Sisters'\n",
    "conditionVal = 6.0\n",
    "\n",
    "if helloStr == 'Hello' and sistersStr == 'Sisters' and type(conditionVal) is float and conditionVal > 5:\n",
    "    print(helloStr,sistersStr)"
   ]
  },
  {
   "cell_type": "markdown",
   "metadata": {},
   "source": [
    "Klavyeden girilen vize ve final notuna göre vizenin %40 ve finalin %60’ını alan ve sonucu ekranda gösteren kodu yazınız."
   ]
  },
  {
   "cell_type": "code",
   "execution_count": 28,
   "metadata": {},
   "outputs": [
    {
     "name": "stdout",
     "output_type": "stream",
     "text": [
      "Ders notunuz:  71.4\n"
     ]
    }
   ],
   "source": [
    "midterm = input(\" Vize notunuzu giriniz: \")\n",
    "final = input(\" Final notunuzu giriniz: \")\n",
    "\n",
    "average = int(midterm)*0.4 + int(final)*0.6\n",
    "\n",
    "print(\"Ders notunuz: \", average)"
   ]
  },
  {
   "cell_type": "markdown",
   "metadata": {},
   "source": [
    "Kullanıcıdan 2 sayı alın ve bunları karşılaştırıp,\n",
    "\n",
    "Sayılar eşit ise 'Sayılar Eşittir' yazdırınız.\n",
    "\n",
    "Eşit değilse;\n",
    "\n",
    "Büyükten 5 çıkartıp ekrana yazdırınız.\n",
    "\n",
    "Küçüğü 3 ile çarpıp ekrana yazdırınız."
   ]
  },
  {
   "cell_type": "code",
   "execution_count": 31,
   "metadata": {},
   "outputs": [
    {
     "name": "stdout",
     "output_type": "stream",
     "text": [
      "Hesaplanan en küçük değer: 0\n",
      "Hesaplanan en büyük değer: -1\n"
     ]
    }
   ],
   "source": [
    "num1 = int(input())\n",
    "num2 = int(input())\n",
    "\n",
    "smaller = None\n",
    "greater = None\n",
    "\n",
    "if num1 > num2:\n",
    "    smaller = num2\n",
    "    greater = num1\n",
    "\n",
    "else:\n",
    "    smaller = num1\n",
    "    greater = num2\n",
    "\n",
    "if smaller == greater:\n",
    "    print(\"Girdiğiniz sayılar birbirine eşitttir...\")\n",
    "    \n",
    "else:\n",
    "    print('Hesaplanan en küçük değer:', smaller*3)\n",
    "    print('Hesaplanan en büyük değer:', greater-5)\n",
    "\n",
    "\n"
   ]
  },
  {
   "cell_type": "code",
   "execution_count": 30,
   "metadata": {},
   "outputs": [
    {
     "name": "stdout",
     "output_type": "stream",
     "text": [
      "3 12\n"
     ]
    }
   ],
   "source": [
    "sayi1=int(input(\"sayi1: \"))\n",
    "sayi2=int(input(\"sayi2: \"))\n",
    "\n",
    "if sayi1==sayi2:\n",
    "  print(\"sayilar eşittir.\")\n",
    "else:\n",
    "  if sayi1>sayi2:\n",
    "    sayi1=sayi1-5\n",
    "    sayi2=sayi2*3\n",
    "    print(sayi1, sayi2)\n",
    "  elif sayi2>sayi1:\n",
    "    sayi2-=5\n",
    "    sayi1*=3\n",
    "    print(sayi2,sayi1)\n"
   ]
  },
  {
   "cell_type": "markdown",
   "metadata": {},
   "source": [
    "Klavyeden girilen iki sayı arasındaki sayıları toplayan kodu yazınız."
   ]
  },
  {
   "cell_type": "code",
   "execution_count": 32,
   "metadata": {},
   "outputs": [
    {
     "name": "stdout",
     "output_type": "stream",
     "text": [
      "2 ile 6 arasındaki sayıların toplamı:  12\n"
     ]
    }
   ],
   "source": [
    "total = 0\n",
    "\n",
    "num1 = int(input('1. Sayıyı giriniz: '))\n",
    "num2 = int(input('2. Sayıyı giriniz: '))\n",
    "\n",
    "for i in range(num1 + 1, num2): #başlangıç ve bitiş sayıları dahil değil\n",
    "    total +=i\n",
    "\n",
    "print(num1, \"ile\", num2, \"arasındaki sayıların toplamı: \", total)\n"
   ]
  },
  {
   "cell_type": "markdown",
   "metadata": {},
   "source": [
    "Kullanıcıdan not ortalamasını girmesini isteyiniz. Not ortalamasına göre sınıf geçme durumunu gösteren kodu yazınız.\n",
    "\n",
    "Sınıf geçme şartları:\n",
    "\n",
    "-(0-50 arasında ise \"Kaldınız\",\n",
    "\n",
    "-50-100 aralığında ise \"Geçtiniz\",\n",
    "\n",
    "-Bu aralığa uymuyorsa \"Hatalı Değer\" mesajlarını ekrana yazdırınız.)"
   ]
  },
  {
   "cell_type": "code",
   "execution_count": 39,
   "metadata": {},
   "outputs": [
    {
     "name": "stdout",
     "output_type": "stream",
     "text": [
      "Hatalı değer girdiniz....\n"
     ]
    }
   ],
   "source": [
    "average = int(input(\"Ortalamanızı giriniz: \"))\n",
    "\n",
    "if average >= 0 and average < 50:\n",
    "    print(\"Kaldınız!!\")\n",
    "\n",
    "elif average >= 50 and average <= 100:\n",
    "    print(\"Geçtiniz...\")\n",
    "\n",
    "else:\n",
    "    print(\"Hatalı değer girdiniz....\")\n",
    "    "
   ]
  },
  {
   "cell_type": "markdown",
   "metadata": {},
   "source": [
    "Kullanıcıdan alınan sayının tam bölenlerini ekrana yazdırınız."
   ]
  },
  {
   "cell_type": "code",
   "execution_count": 42,
   "metadata": {},
   "outputs": [
    {
     "name": "stdout",
     "output_type": "stream",
     "text": [
      "1\n",
      "2\n",
      "3\n",
      "6\n"
     ]
    }
   ],
   "source": [
    "userInput = int(input('Bir değer giriniz.....'))\n",
    "\n",
    "for i in range( 1, userInput +1 ):\n",
    "    if userInput % i == 0:\n",
    "        print(i)"
   ]
  },
  {
   "cell_type": "markdown",
   "metadata": {},
   "source": [
    "Kullanıcıdan bir sayı alınız ve bu sayının faktöriyelini hesaplayınız."
   ]
  },
  {
   "cell_type": "code",
   "execution_count": 1,
   "metadata": {},
   "outputs": [
    {
     "name": "stdout",
     "output_type": "stream",
     "text": [
      "720\n"
     ]
    }
   ],
   "source": [
    "#region Cevap 1\n",
    "number = int(input())\n",
    "result = 1\n",
    " \n",
    "while number > 1:\n",
    "    result *= number\n",
    "    number -= 1\n",
    "\n",
    "print(result)    \n",
    "#endregion\n"
   ]
  },
  {
   "cell_type": "code",
   "execution_count": 2,
   "metadata": {},
   "outputs": [
    {
     "name": "stdout",
     "output_type": "stream",
     "text": [
      "720\n"
     ]
    }
   ],
   "source": [
    "#region Cevap 2\n",
    "number = int(input())\n",
    "result = 1\n",
    "\n",
    "for i in range(2, number + 1):\n",
    "    result *= i\n",
    "\n",
    "print(result)\n",
    "#endregion"
   ]
  },
  {
   "cell_type": "markdown",
   "metadata": {},
   "source": [
    "**BURADA KALDIK....**"
   ]
  },
  {
   "cell_type": "markdown",
   "metadata": {},
   "source": [
    "Verilen tam sayı 'n' için n'den küçük olan ve negatif olmayan sayıların karelerini ekrana yazdırınız.\n",
    "\n",
    "Örneğin 6 sayısı için ekranda şu şekilde bir çıktı olmalıdır ;\n",
    "\n",
    "0\n",
    "1\n",
    "4\n",
    "9\n",
    "16\n",
    "25"
   ]
  },
  {
   "cell_type": "code",
   "execution_count": null,
   "metadata": {},
   "outputs": [],
   "source": []
  },
  {
   "cell_type": "markdown",
   "metadata": {},
   "source": [
    "Kullanıcıdan bir metin girmesini isteyin ve girilen bu metinde bulunan sesli harflerin sayısını ekranda gösteren kodu yazın."
   ]
  },
  {
   "cell_type": "code",
   "execution_count": null,
   "metadata": {},
   "outputs": [],
   "source": []
  },
  {
   "cell_type": "markdown",
   "metadata": {},
   "source": [
    "Kullanıcıdan bir sayı alınız ve sonrasında alınan sayıya kadar olan sayılardan oluşan alttaki piramiti oluşturunuz.\n",
    "\n",
    "Örnek: Kullanıcı '5' değerini girdiyse;\n",
    "\n",
    "1\n",
    "1 2\n",
    "1 2 3\n",
    "1 2 3 4\n",
    "1 2 3 4 5"
   ]
  },
  {
   "cell_type": "code",
   "execution_count": null,
   "metadata": {},
   "outputs": [],
   "source": []
  },
  {
   "cell_type": "markdown",
   "metadata": {},
   "source": [
    "Aşağıdaki şekli oluşturunuz.\n",
    "\n",
    "     * \n",
    "    * * \n",
    "   * * * \n",
    "  * * * * \n",
    " * * * * * \n",
    "* * * * * * \n",
    " * * * * * \n",
    "  * * * * \n",
    "   * * * \n",
    "    * * \n",
    "     *\n"
   ]
  },
  {
   "cell_type": "code",
   "execution_count": null,
   "metadata": {},
   "outputs": [],
   "source": []
  },
  {
   "cell_type": "markdown",
   "metadata": {},
   "source": [
    "Klavyeden girilen sayıya kadar olan sayılardan tek sayıların toplamını ve çift sayıların toplamını ayrı ayrı bulan kodu yazınız."
   ]
  },
  {
   "cell_type": "code",
   "execution_count": null,
   "metadata": {},
   "outputs": [],
   "source": []
  },
  {
   "cell_type": "markdown",
   "metadata": {},
   "source": [
    "Kullanıcı 'q' harfine basmadığı sürece kullanıcıdan sürekli olarak tam sayı alınız. Aldığınız tam sayıların;\n",
    "\n",
    "Toplamını yazdırınız.\n",
    "En büyüğünü yazdırınız.\n",
    "En küçüğünü yazdırınız.\n",
    "Ortalamasını yazdırınız."
   ]
  },
  {
   "cell_type": "code",
   "execution_count": null,
   "metadata": {},
   "outputs": [],
   "source": []
  },
  {
   "cell_type": "code",
   "execution_count": null,
   "metadata": {},
   "outputs": [],
   "source": [
    "Verilen iki sayının EBOB'unu ve EKOK'unu hesaplayın"
   ]
  },
  {
   "cell_type": "code",
   "execution_count": null,
   "metadata": {},
   "outputs": [],
   "source": []
  },
  {
   "cell_type": "markdown",
   "metadata": {},
   "source": [
    "Aşağıdaki deseni oluşturunuz.\n",
    "\n",
    "*\n",
    " **\n",
    "***\n",
    "   ****\n",
    "*****\n",
    "     ******\n",
    "*******\n",
    "       ********\n",
    "*********\n",
    "         **********"
   ]
  },
  {
   "cell_type": "code",
   "execution_count": null,
   "metadata": {},
   "outputs": [],
   "source": []
  }
 ],
 "metadata": {
  "kernelspec": {
   "display_name": "Python 3.10.5 64-bit",
   "language": "python",
   "name": "python3"
  },
  "language_info": {
   "codemirror_mode": {
    "name": "ipython",
    "version": 3
   },
   "file_extension": ".py",
   "mimetype": "text/x-python",
   "name": "python",
   "nbconvert_exporter": "python",
   "pygments_lexer": "ipython3",
   "version": "3.10.5"
  },
  "orig_nbformat": 4,
  "vscode": {
   "interpreter": {
    "hash": "809676a54b8ab5d78ae67a625bb8f51c2b0f3ae9db99b4fbdcab59ab2ddb6b90"
   }
  }
 },
 "nbformat": 4,
 "nbformat_minor": 2
}
