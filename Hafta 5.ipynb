{
  "cells": [
    {
      "cell_type": "markdown",
      "metadata": {
        "id": "4qHfchmfY5TN"
      },
      "source": [
        "SORU XXX:\n",
        "\n",
        "Aşağıdaki stringde verilen değeri, büyük harfe dönüştürmek ve tersine çevirmek için bir lambda fonksiyonu kullanın.\n",
        "\n",
        "- SistersLab girdisi için beklenen çıktı 'BALSRETSİS'"
      ]
    },
    {
      "cell_type": "code",
      "execution_count": null,
      "metadata": {
        "colab": {
          "base_uri": "https://localhost:8080/"
        },
        "id": "u5C2WQh2Y5vn",
        "outputId": "26cc881b-02c6-4418-b9fe-82ea49624c09"
      },
      "outputs": [
        {
          "name": "stdout",
          "output_type": "stream",
          "text": [
            "BALSRETSIS\n"
          ]
        }
      ],
      "source": [
        "str1 = \"SistersLab\"\n",
        "revers_upper = lambda string: string.upper()[::-1]\n",
        "print(revers_upper(str1))"
      ]
    },
    {
      "cell_type": "markdown",
      "metadata": {
        "id": "oIK7mLGdY80j"
      },
      "source": [
        "SORU XXX:\n",
        "\n",
        "Girilen değer 5-10 arasında ise sayının 5 katını, 10'dan büyükse 10 katını dönen bir lambda fonksiyonu ve normal fonksiyon yazın\n",
        "\n"
      ]
    },
    {
      "cell_type": "code",
      "execution_count": null,
      "metadata": {
        "id": "uLcCygBBZDg2"
      },
      "outputs": [],
      "source": [
        "num = lambda x: x * 10 if x > 10 else (x * 5 if x < 5 else x)\n",
        "num(11)"
      ]
    },
    {
      "cell_type": "code",
      "execution_count": null,
      "metadata": {
        "id": "NOjIE2H_abbs"
      },
      "outputs": [],
      "source": [
        "def check_conditions(x):\n",
        "    if x > 10:\n",
        "        return x * 10\n",
        "    elif x < 5:\n",
        "        return x * 5\n",
        "    else:\n",
        "        return x\n",
        "\n",
        "check_conditions(11)"
      ]
    },
    {
      "cell_type": "markdown",
      "metadata": {
        "id": "XsJXjTMAZERn"
      },
      "source": [
        "SORU XXX:\n",
        "\n",
        "Listedeki sayılardan tek olanları lambda fonksiyonu kullanarak yazdırınız.\n",
        "\n",
        "list_ = [34, 12, 64, 57, 75, 13, 63, 3, 23, 232, 3453, 111211]"
      ]
    },
    {
      "cell_type": "code",
      "execution_count": null,
      "metadata": {
        "id": "UnNQldBIZGnn"
      },
      "outputs": [],
      "source": [
        "list_ = [34, 12, 64, 57, 75, 13, 63, 3, 23, 232, 3453, 111211]  \n",
        "  \n",
        "odd_list = list(filter( lambda num: (num % 2 != 0) , list_ ))  \n",
        "  \n",
        "print(odd_list)"
      ]
    },
    {
      "cell_type": "markdown",
      "metadata": {
        "id": "udEKNAYPZHJH"
      },
      "source": [
        "Soru XXX\n",
        "\n",
        "[0,1,2,3,4,5,6,7,9,10,12] Verilen listenin\n",
        "\n",
        "- 3.indexi ile 6.indexi arasındaki değerleri yazdırınız.\n",
        "- Listeyi tersten yazdırınız.\n",
        "- Listeye 10'dan sonra olacak şekilde 11 değerini ekleyiniz.\n",
        "- Listenin en başına -15 değerini ekleyiniz.\n",
        "- Listenin sonundaki değeri siliniz ve ekrana yazdırınız.\n",
        "- Listeye 5.indexten başlayarak 50 ve 51 değerlerini ekleyiniz.\n",
        "- Listedeki her bir değeri, değerin 10 ile çarpımı ile güncelleyiniz.\n",
        "- Listedeki her bir değer için, eğer değer 2'nin katı ise değeri değerin 5'e bölümü ile 2'nin katı değilse değere 2 ekleyerek güncelleyiniz.\n"
      ]
    },
    {
      "cell_type": "code",
      "execution_count": null,
      "metadata": {
        "colab": {
          "base_uri": "https://localhost:8080/"
        },
        "id": "suaocZgiZO-k",
        "outputId": "8c91ea60-3e5a-4340-9c8a-eed71b82d380"
      },
      "outputs": [
        {
          "name": "stdout",
          "output_type": "stream",
          "text": [
            "[3, 4, 5, 6]\n",
            "[12, 10, 9, 7, 6, 5, 4, 3, 2, 1, 0]\n",
            "[0, 1, 2, 3, 4, 5, 6, 7, 9, 10, 11, 12]\n",
            "[-15, 0, 1, 2, 3, 4, 5, 6, 7, 9, 10, 11, 12]\n",
            "12\n",
            "[-15, 0, 1, 2, 3, 50, 51, 4, 5, 6, 7, 9, 10, 11]\n",
            "[-150, 0, 10, 20, 30, 500, 510, 40, 50, 60, 70, 90, 100, 110]\n",
            "[-30, 0, 2, 4, 6, 100, 102, 8, 10, 12, 14, 18, 20, 22]\n"
          ]
        }
      ],
      "source": [
        "liste = [0,1,2,3,4,5,6,7,9,10,12]\n",
        "\n",
        "#Soru 1\n",
        "print(liste[3:7])\n",
        "\n",
        "#Soru 2\n",
        "print(liste[::-1])\n",
        "\n",
        "#Soru 3\n",
        "liste.insert(10, 11)\n",
        "print(liste)\n",
        "\n",
        "#Soru 4\n",
        "liste.insert(0, -15)\n",
        "print(liste)\n",
        "\n",
        "#Soru 5\n",
        "print(liste.pop())\n",
        "\n",
        "#Soru 6\n",
        "liste[5:5] = [50, 51]\n",
        "print(liste)\n",
        "\n",
        "#Soru 7\n",
        "liste = list(map(lambda number: number * 10,liste))\n",
        "print(liste)\n",
        "\n",
        "#Soru 8\n",
        "liste = list(map(lambda number: number // 5 if number % 2 == 0 else number + 2, liste))\n",
        "print(liste)"
      ]
    },
    {
      "cell_type": "markdown",
      "metadata": {
        "id": "ZmkmDcRqZPe-"
      },
      "source": [
        "Soru XXX:\n",
        "\n",
        "Kendisine parametre olarak verilen listenin içerisindeki sayıları toplayan ve bu sonucu dönen bir fonksiyon yazınız."
      ]
    },
    {
      "cell_type": "code",
      "execution_count": null,
      "metadata": {
        "colab": {
          "base_uri": "https://localhost:8080/"
        },
        "id": "XfjSrtwGZRR9",
        "outputId": "fb2ab685-e1c7-4d27-bcea-cc22e323994b"
      },
      "outputs": [
        {
          "name": "stdout",
          "output_type": "stream",
          "text": [
            "22\n"
          ]
        }
      ],
      "source": [
        "def sum(s):\n",
        "  summ = 0\n",
        "  for i in s:\n",
        "    summ += i\n",
        "  print(summ)\n",
        "\n",
        "l = [4, 5, 6, 7]\n",
        "sum(l)"
      ]
    },
    {
      "cell_type": "markdown",
      "metadata": {
        "id": "M_oHegseZTUv"
      },
      "source": [
        "Soru XXX:\n",
        "\n",
        "\n",
        "\n",
        "Kendisine parametre olarak verilen listenin içerisindeki sayıları çarpan ve bu sonucu dönen bir fonksiyon yazınız."
      ]
    },
    {
      "cell_type": "code",
      "execution_count": null,
      "metadata": {
        "colab": {
          "base_uri": "https://localhost:8080/"
        },
        "id": "KLDaZMh5ZWKE",
        "outputId": "c37f6771-2fc7-436f-bcd4-46a70d06427e"
      },
      "outputs": [
        {
          "name": "stdout",
          "output_type": "stream",
          "text": [
            "20\n"
          ]
        }
      ],
      "source": [
        "def mult(s):\n",
        "  multt = 1\n",
        "  for i in s:\n",
        "    multt *= i\n",
        "  print(multt)\n",
        "\n",
        "l = [4, 5]\n",
        "mult(l)"
      ]
    },
    {
      "cell_type": "markdown",
      "metadata": {
        "id": "5NGWLWaMZWe4"
      },
      "source": [
        "Soru XXX:\n",
        "\n",
        "Kendisine parametre olarak verilen listenin içerisindeki sayıların 5 ile bölümünden kalanlarının toplamını dönen bir fonksiyon yazınız."
      ]
    },
    {
      "cell_type": "code",
      "execution_count": null,
      "metadata": {
        "colab": {
          "base_uri": "https://localhost:8080/"
        },
        "id": "q_2bGju2ZZsF",
        "outputId": "d1d1fbb7-b99d-4b2a-f287-841cdef75660"
      },
      "outputs": [
        {
          "data": {
            "text/plain": [
              "5"
            ]
          },
          "execution_count": 14,
          "metadata": {},
          "output_type": "execute_result"
        }
      ],
      "source": [
        "def sumRemains(givenList):\n",
        "  sum = 0\n",
        "  for item in givenList:\n",
        "    sum += item % 5\n",
        "  \n",
        "  return sum"
      ]
    },
    {
      "cell_type": "markdown",
      "metadata": {
        "id": "y6GN2lx-ZaC1"
      },
      "source": [
        "Soru XXX:\n",
        "\n",
        "Kendisine parametre olarak verilen listenin içerisindeki sayılardan, kendisine parametre olarak verilen sayıya tam bölünenlerin toplamını döndüren bir fonksiyon yazınız. Fonksiyon aşağıdaki gibi görünebilir.\n",
        "\n",
        "\n",
        "\n",
        "```\n",
        "def tam_bolunenleri_topla(liste, bolunecek_sayi)\n",
        "    return tam_bolunenlerin_toplami\n",
        "```\n",
        "\n"
      ]
    },
    {
      "cell_type": "code",
      "execution_count": null,
      "metadata": {
        "colab": {
          "base_uri": "https://localhost:8080/"
        },
        "id": "eGZcJU0iZfAI",
        "outputId": "4e12e48b-825f-4fb7-fb03-6bcd6a6e3db6"
      },
      "outputs": [
        {
          "name": "stdout",
          "output_type": "stream",
          "text": [
            "40\n"
          ]
        }
      ],
      "source": [
        "def sumDividedNumbers(givenList, divisor):\n",
        "  sumOfDividedNumbers = 0\n",
        "  for item in givenList:\n",
        "    if item % divisor == 0:\n",
        "      sumOfDividedNumbers += item\n",
        "\n",
        "  return sumOfDividedNumbers\n",
        "\n",
        "myList = [10,2,5,3,5,4,19,20]\n",
        "\n",
        "print(sumDividedNumbers(myList, 5))"
      ]
    },
    {
      "cell_type": "markdown",
      "metadata": {
        "id": "p4Y5BkVaZjj5"
      },
      "source": [
        "Soru XXX:\n",
        "\n",
        "1000 ile 1000 aralığında random sayılardan oluşan 250 elemanlı bir liste oluşturunuz. Sonrasında oluşturduğunuz bu liste ile aşağıdaki işlemleri yapınız.\n",
        "\n",
        "- Bu liste içerisinde kaç adet pozitif, kaç adet negatif sayı olduğunu bulunuz.\n",
        "- Bu liste içerisinde kaç adet tek, kaç adet çift sayı olduğunu bulunuz.\n",
        "- Bu liste içerisinde 3'e tam bölünen sayıların toplamını bulunuz.\n",
        "- Bu liste içerisinde 5'e tam bölünen sayıların toplamını bulunuz.\n",
        "- Bu liste içerisinde 15'e tam bölünen sayıların toplamını bulunuz.\n",
        "- Bu liste içerisindeki çift sayıların ve tek sayıların toplamını bulunuz.\n",
        "- Bu liste içerisinde çift indexte bulunan sayıların toplamını bulunuz.\n",
        "- Listedeki her bir değer için, eğer değer pozitif ise 10 çıkarınız değilse 20 ekleyiniz.\n",
        "- Listedeki pozitif ve negatif değerlerin en büyüğünü ayrı ayrı bulunuz."
      ]
    },
    {
      "cell_type": "code",
      "execution_count": null,
      "metadata": {
        "colab": {
          "base_uri": "https://localhost:8080/"
        },
        "id": "XI_uTuj0ZpXR",
        "outputId": "fcec5d6c-f669-48cb-cbab-28266a69852e"
      },
      "outputs": [
        {
          "name": "stdout",
          "output_type": "stream",
          "text": [
            "-----------------Soru 1-----------------\n",
            "250\n",
            "Negative Count: 130 - Positive Count:120\n",
            "Negative Count: 130 - Positive Count:120\n",
            "-----------------Soru 1-----------------\n",
            "\n",
            "-----------------Soru 2-----------------\n",
            "Odd Count: 122 - Even Count: 128\n",
            "Odd Count: 122 - Even Count: 128\n",
            "-----------------Soru 2-----------------\n",
            "\n",
            "-----------------Soru 3-----------------\n",
            "Sum of numbers that divided by 3: -837\n",
            "Sum of numbers that divided by 3: -837\n",
            "-----------------Soru 3-----------------\n",
            "\n",
            "-----------------Soru 4-----------------\n",
            "Sum of numbers that divided by 5: 1850\n",
            "-----------------Soru 4-----------------\n",
            "\n",
            "-----------------Soru 5-----------------\n",
            "Sum of numbers that divided by 15: -360\n",
            "-----------------Soru 5-----------------\n",
            "\n",
            "-----------------Soru 6-----------------\n",
            "Odd Total: 1486 - Even Total: -2542\n",
            "-----------------Soru 6-----------------\n",
            "\n",
            "-----------------Soru 7-----------------\n",
            "Sum of numbers that on even index: -2210\n",
            "-----------------Soru 7-----------------\n",
            "\n",
            "-----------------Soru 8-----------------\n",
            "[-533, 26, 676, -274, 904, -191, 112, 255, -811, -216, 586, -944, 205, -317, 301, 8, -31, -299, -583, 935, -397, 255, 646, -448, -276, -430, -3, -513, 763, -608, -884, -104, -110, 18, -696, -57, 316, 975, -438, 299, -293, 35, -105, -680, 925, -170, -686, -266, -571, 856, 592, -144, -95, -413, -368, -649, -749, -390, -486, 312, -226, 173, -633, -29, -194, 199, 644, -146, 848, -965, 122, 556, -938, -38, 756, -84, -271, 719, -344, 714, -481, -581, -817, 61, 571, 391, -861, 900, 766, 61, 558, -219, -524, -907, 69, -441, -763, 636, 587, 987, -380, 467, -78, -515, 987, 334, 377, 415, 458, 326, -340, 358, 52, 557, -792, 280, 588, -325, -591, 308, 542, 491, 597, 830, -840, 383, -325, 689, -522, 897, 251, 168, 892, 563, -633, 848, 757, -681, -379, 558, -572, -777, -66, -400, -25, -917, 240, 709, 670, 261, 580, -263, -684, 306, 111, 163, 752, -132, 562, -226, 493, 453, 977, -23, -801, -807, -686, 891, 594, -980, -349, 290, 647, -352, 388, -594, 481, 606, 428, 780, 599, 59, 626, -153, -768, -642, -264, -496, 68, -213, 122, -166, 487, 877, -664, 136, 14, -962, 511, -59, -974, -199, 491, 35, 186, -293, 902, 269, -733, -543, -849, -451, -374, 85, -338, 947, 636, -381, -868, 249, -61, 875, -162, -571, 711, -323, -86, -524, -670, -280, 813, -445, -336, 925, -832, 534, -878, 696, 484, -868, -727, 75, 703, -714, 618, 148, -943, -712, -35, 92]\n",
            "-----------------Soru 8-----------------\n",
            "\n",
            "-----------------Soru 9-----------------\n",
            "Negative Max: -3 - Positive Max: 987\n",
            "-----------------Soru 9-----------------\n"
          ]
        }
      ],
      "source": [
        "import random\n",
        "import time #Programin ne kadar sure calistigini olcmek icin kullandim. Cevap icin gerekli degil.\n",
        "\n",
        "randomList = []\n",
        "for counter in range(0, 250):\n",
        "  randomList.append(random.randint(-1000, 1000))\n",
        "\n",
        "#Soru 1 Çözüm 1\n",
        "print('-----------------Soru 1-----------------')\n",
        "print(len(randomList))\n",
        "startTime = time.perf_counter() #Programin ne kadar sure calistigini olcmek icin kullandim. Cevap icin gerekli degil.\n",
        "\n",
        "positiveCount = len(list(filter(lambda number: number >= 0,randomList)))\n",
        "negativeCount = len(list(filter(lambda number: number < 0,randomList)))\n",
        "print(f'Negative Count: {negativeCount} - Positive Count:{positiveCount}')\n",
        "\n",
        "# print(f'{time.perf_counter() - startTime} seconds')\n",
        "\n",
        "#Soru 1 Çözüm 2\n",
        "def countPositiveAndNegative(givenList):\n",
        "  positiveCount = negativeCount = 0\n",
        "\n",
        "  for item in givenList:\n",
        "    if item >= 0:\n",
        "      positiveCount += 1\n",
        "    else:\n",
        "      negativeCount += 1\n",
        "    \n",
        "  return positiveCount, negativeCount\n",
        "\n",
        "startTime = time.perf_counter()\n",
        "positiveCount, negativeCount = countPositiveAndNegative(randomList)\n",
        "print(f'Negative Count: {negativeCount} - Positive Count:{positiveCount}')\n",
        "# print(f'{time.perf_counter() - startTime} seconds')\n",
        "print('-----------------Soru 1-----------------')\n",
        "\n",
        "print()\n",
        "\n",
        "#Soru 2 Çözüm 1\n",
        "print('-----------------Soru 2-----------------')\n",
        "oddCount = len(list(filter(lambda number: number % 2 == 1,randomList)))\n",
        "evenCount = len(list(filter(lambda number: number % 2 == 0,randomList)))\n",
        "print(f'Odd Count: {oddCount} - Even Count: {evenCount}')\n",
        "#Soru 2 Çözüm 2\n",
        "def countOddAndEven(givenList):\n",
        "  oddCount = evenCount = 0\n",
        "\n",
        "  for item in givenList:\n",
        "    if item % 2 == 0:\n",
        "      evenCount += 1\n",
        "    else:\n",
        "      oddCount += 1\n",
        "    \n",
        "  return oddCount, evenCount\n",
        "\n",
        "oddCount, evenCount = countOddAndEven(randomList)\n",
        "print(f'Odd Count: {oddCount} - Even Count: {evenCount}')\n",
        "print('-----------------Soru 2-----------------')\n",
        "\n",
        "print()\n",
        "\n",
        "#Soru 3 Çözüm 1\n",
        "print('-----------------Soru 3-----------------')\n",
        "print(f'Sum of numbers that divided by 3: {sum(list(filter(lambda number: number % 3 == 0,randomList)))}')\n",
        "\n",
        "#Soru 3 Çözüm 2\n",
        "print(f'Sum of numbers that divided by 3: {sumDividedNumbers(randomList, 3)}')\n",
        "print('-----------------Soru 3-----------------')\n",
        "\n",
        "print()\n",
        "\n",
        "#Soru 4\n",
        "print('-----------------Soru 4-----------------')\n",
        "print(f'Sum of numbers that divided by 5: {sumDividedNumbers(randomList, 5)}')\n",
        "print('-----------------Soru 4-----------------')\n",
        "\n",
        "print()\n",
        "\n",
        "#Soru 5\n",
        "print('-----------------Soru 5-----------------')\n",
        "print(f'Sum of numbers that divided by 15: {sumDividedNumbers(randomList, 15)}')\n",
        "print('-----------------Soru 5-----------------')\n",
        "\n",
        "print()\n",
        "\n",
        "#Soru 6\n",
        "print('-----------------Soru 6-----------------')\n",
        "oddTotal = sum(list(filter(lambda number: number % 2 == 1, randomList)))\n",
        "evenTotal = sum(list(filter(lambda number: number % 2 == 0, randomList)))\n",
        "print(f'Odd Total: {oddTotal} - Even Total: {evenTotal}')\n",
        "print('-----------------Soru 6-----------------')\n",
        "\n",
        "print()\n",
        "\n",
        "#Soru 7\n",
        "print('-----------------Soru 7-----------------')\n",
        "print(f'Sum of numbers that on even index: {sum(randomList[0::2])}')\n",
        "print('-----------------Soru 7-----------------')\n",
        "\n",
        "print()\n",
        "\n",
        "#Soru 8\n",
        "print('-----------------Soru 8-----------------')\n",
        "randomList = list(map(lambda number: number - 10 if number > 0 else number +20, randomList))\n",
        "print(randomList)\n",
        "print('-----------------Soru 8-----------------')\n",
        "\n",
        "print()\n",
        "\n",
        "#Soru 9\n",
        "print('-----------------Soru 9-----------------')\n",
        "positiveMax = max(randomList)\n",
        "negativeMax = max(list(filter(lambda number: number < 0, randomList)))\n",
        "print(f'Negative Max: {negativeMax} - Positive Max: {positiveMax}')\n",
        "print('-----------------Soru 9-----------------')\n"
      ]
    }
  ],
  "metadata": {
    "colab": {
      "collapsed_sections": [],
      "provenance": []
    },
    "kernelspec": {
      "display_name": "Python 3",
      "name": "python3"
    },
    "language_info": {
      "name": "python"
    }
  },
  "nbformat": 4,
  "nbformat_minor": 0
}
